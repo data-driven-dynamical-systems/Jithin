{
 "cells": [
  {
   "cell_type": "markdown",
   "metadata": {},
   "source": [
    "#### A verification of transfer entropy for the Ising model\n",
    "\n",
    "This Jupyter notebook generates an Ising model and an amended Ising model and extracts the transfer entropy of various sequence in an attempt to recreate the plots of the ork by Razaka and Jensen. \n",
    "\n",
    "\n",
    "#### References\n",
    "\n",
    "1. Razak, Fatimah Abdul, and Henrik Jeldtoft Jensen. \"Quantifying ‘causality’in complex systems: understanding transfer entropy.\" PLoS One 9.6 (2014): e99462."
   ]
  },
  {
   "cell_type": "code",
   "execution_count": 1,
   "metadata": {
    "collapsed": false
   },
   "outputs": [
    {
     "name": "stderr",
     "output_type": "stream",
     "text": [
      "/home/jithin/anaconda3/lib/python3.6/site-packages/numba/errors.py:105: UserWarning: Insufficiently recent colorama version found. Numba requires colorama >= 0.3.9\n",
      "  warnings.warn(msg)\n"
     ]
    }
   ],
   "source": [
    "import numpy as np\n",
    "from numpy.random import rand,randint\n",
    "import matplotlib.pyplot as plt\n",
    "import pandas as pd\n",
    "from numba import jit\n",
    "from pyitlib import discrete_random_variable as drv"
   ]
  },
  {
   "cell_type": "code",
   "execution_count": 24,
   "metadata": {
    "collapsed": true
   },
   "outputs": [],
   "source": [
    "L =25\n",
    "N = L**2\n",
    "eqsteps = 2000\n",
    "upvector = np.roll(np.arange(L),-1)\n",
    "downvector = np.roll(np.arange(L),1)"
   ]
  },
  {
   "cell_type": "code",
   "execution_count": 48,
   "metadata": {
    "collapsed": false
   },
   "outputs": [],
   "source": [
    "@jit\n",
    "def ising_step(states,T):\n",
    "    beta = 1.0/(T)\n",
    "    for steps in range(N):\n",
    "        i = randint(0,L)\n",
    "        j = randint(0,L)\n",
    "        E = 2*states[i,j]*(states[i,upvector[j]]+states[i,downvector[j]]+states[upvector[i],j]+states[downvector[i],j])\n",
    "        if E < 0:\n",
    "            states[i,j] *= -1\n",
    "        elif rand() < np.exp(-E*beta):\n",
    "            states[i,j] *= -1\n",
    "    return states\n",
    "\n",
    "@jit\n",
    "def random_int(L):\n",
    "    states = 2*randint(2, size=(L,L))-1\n",
    "    return states\n",
    "\n",
    "\n",
    "@jit\n",
    "def amended_ising_step(states,T,state0value):\n",
    "    beta = 1.0/(T)\n",
    "    for steps in range(N):\n",
    "        i = randint(0,L)\n",
    "        j = randint(0,L)\n",
    "        if i == L-1:\n",
    "            if j == L-1:\n",
    "                if state0value == -1:\n",
    "                    continue\n",
    "        E = 2*states[i,j]*(states[i,upvector[j]]+states[i,downvector[j]]+states[upvector[i],j]+states[downvector[i],j])\n",
    "        if E < 0:\n",
    "            states[i,j] *= -1\n",
    "        elif rand() < np.exp(-E*beta):\n",
    "            states[i,j] *= -1\n",
    "    return states\n"
   ]
  },
  {
   "cell_type": "code",
   "execution_count": 51,
   "metadata": {
    "collapsed": false
   },
   "outputs": [],
   "source": [
    "#@jit \n",
    "def ising(L,T,eqsteps=2000,simsteps =50000):\n",
    "    states = random_int(L)\n",
    "    MCstates = np.zeros((L**2,simsteps))\n",
    "    for eqstep in range(eqsteps):\n",
    "        states = ising_step(states,T)\n",
    "    for steps in range(simsteps):\n",
    "        states = ising_step(states,T)\n",
    "        MCstates[:,steps] = states.flatten()\n",
    "    return MCstates\n",
    "\n",
    "\n",
    "def amended_ising(L,T,eqsteps=2000,simsteps =50000):\n",
    "    states = random_int(L)\n",
    "    MCstates = np.zeros((L**2,simsteps))\n",
    "    state0 = np.zeros(eqsteps+simsteps+11)\n",
    "    i = 0\n",
    "    for eqstep in range(10):\n",
    "        states = ising_step(states,T)\n",
    "        state0[i] = states[0,0]\n",
    "        i +=1\n",
    "    for eqstep in range(eqsteps):\n",
    "        states = amended_ising_step(states,T,state0[i-10])\n",
    "        state0[i] = states[0,0]\n",
    "        i +=1\n",
    "    for steps in range(simsteps):\n",
    "        states = amended_ising_step(states,T,state0[i-10])\n",
    "        state0[i] = states[0,0]\n",
    "        i +=1\n",
    "        MCstates[:,steps] = states.flatten()\n",
    "    return MCstates"
   ]
  },
  {
   "cell_type": "code",
   "execution_count": 74,
   "metadata": {
    "collapsed": true
   },
   "outputs": [],
   "source": [
    "\n",
    "def TE(X,X_1,Y):\n",
    "    '''\n",
    "    Input:\n",
    "        Takes times series X, X_1 (Which is X one step before)and Y\n",
    "    Output:\n",
    "        ans  - Measure of how \n",
    "        Joint Distribution of X,X_1 and Y\n",
    "        Conditional Distribution of X given X_1\n",
    "        Conditional Distribution of X given X_1 and Y\n",
    "    '''\n",
    "    if len(X) != len(X_1):\n",
    "        print('Lengths of X and X_1 dont match')\n",
    "    elif len(X) != len(Y):\n",
    "        print(\"Lengths of X and Y dont match\")\n",
    "    m  = [np.random.randint(-10,-5) for i in range(len(X))]\n",
    "    df = pd.DataFrame({'X':X,'X_1':X_1, 'Y':Y, 'm':m})\n",
    "    States_X = list(set(X))\n",
    "    States_X_1 = list(set(X_1))\n",
    "    States_Y = list(set(Y))\n",
    "    JointDist = df.groupby(['X', 'X_1','Y']).count()/len(df) \n",
    "    JointDist = JointDist.reorder_levels(['X','X_1','Y']).sort_index()\n",
    "    DistXgivenX_1 = (df.groupby(['X','X_1']).count() / df.groupby(['X_1']).count())\n",
    "    DistXgivenX_1 =DistXgivenX_1.reorder_levels(['X','X_1']).sort_index()\n",
    "    \n",
    "    countto = lambda x: x / x.count()\n",
    "    DistXgivenX_1Y = df.groupby(['X','X_1','Y']).count().groupby(['X_1','Y']).transform(countto)\n",
    "                          \n",
    "    DistXgivenX_1Y = DistXgivenX_1Y.reorder_levels(['X','X_1','Y']).sort_index()\n",
    "    ans = 0\n",
    "    for  x in States_X:\n",
    "        for y in States_Y:\n",
    "            for z in States_X_1:\n",
    "                try:\n",
    "                    #print('Joint Dist :'+ str(JointDist.loc[x,z,y]['m']))\n",
    "                    #print(' Dist 1 :'+ str(DistXgivenX_1Y.loc[x,z,y]['m']))\n",
    "                    #print(' Dist 2:'+ str(DistXgivenX_1.loc[x,z]['m']))\n",
    "                    f = JointDist.loc[x,z,y]['m']*np.log(DistXgivenX_1Y.loc[x,z,y]['m']/DistXgivenX_1.loc[x,z]['m'])\n",
    "                    #print(f)\n",
    "                    #print('E:' +str( f))\n",
    "                    #print(JointDist.loc[x,z,y]['m'],DistXgivenX_1Y.loc[x,z,y]['m'],DistXgivenX_1.loc[x,z]['m'])\n",
    "                    ans += f\n",
    "                    #print(ans)\n",
    "                except:\n",
    "                    pass\n",
    "    return ans,JointDist\n",
    " "
   ]
  },
  {
   "cell_type": "code",
   "execution_count": 52,
   "metadata": {
    "collapsed": false
   },
   "outputs": [
    {
     "name": "stdout",
     "output_type": "stream",
     "text": [
      "2.0\n",
      "2.1\n",
      "2.2\n",
      "2.3\n",
      "2.4\n",
      "2.5\n",
      "2.6\n",
      "2.7\n",
      "2.8\n",
      "2.9\n",
      "3.0\n"
     ]
    }
   ],
   "source": [
    "Trange = np.linspace(2,3,11)\n",
    "TEX_Y = np.zeros(len(Trange))\n",
    "TEY_X = np.zeros(len(Trange))\n",
    "TEX_Y_amended = np.zeros(len(Trange))\n",
    "TEY_X_amended = np.zeros(len(Trange))\n",
    "i = 0\n",
    "L=25\n",
    "for T in Trange:\n",
    "    MCstates= ising(L,T)\n",
    "    MCstates[MCstates==-1]=0\n",
    "    X_1 = MCstates[0,9:-1]\n",
    "    X = MCstates[0,10:]\n",
    "    Y = MCstates[-1,:-10]\n",
    "    TEX_Y[i] = drv.information_mutual_conditional(X,Y,X_1)\n",
    "    X_1 = MCstates[-1,9:-1]\n",
    "    X = MCstates[-1,10:]\n",
    "    Y = MCstates[0,:-10]\n",
    "    TEY_X[i] = drv.information_mutual_conditional(X,Y,X_1)\n",
    "    \n",
    "    MCstates2= amended_ising(L,T)\n",
    "    MCstates2[MCstates2==-1]=0Hi, Niall,\n",
    "    X_1 = MCstates2[0,9:-1]\n",
    "    X = MCstates2[0,10:]\n",
    "    Y = MCstates2[-1,:-10]\n",
    "    TEX_Y_amended[i] = drv.information_mutual_conditional(X,Y,X_1)\n",
    "    X_1 = MCstates2[-1,9:-1]\n",
    "    X = MCstates2[-1,10:]\n",
    "    Y = MCstates2[0,:-10]\n",
    "    TEY_X_amended[i] = drv.information_mutual_conditional(X,Y,X_1)\n",
    "    i += 1\n",
    "    print(T)"
   ]
  },
  {
   "cell_type": "markdown",
   "metadata": {},
   "source": [
    "##### Regular Ising model.\n",
    "\n",
    "Each state has some influence on any other state but it should be a symmetric one. We are hence able to recreate Figure 4 in [1] for L =25"
   ]
  },
  {
   "cell_type": "code",
   "execution_count": 57,
   "metadata": {
    "collapsed": false
   },
   "outputs": [
    {
     "data": {
      "image/png": "[encoded data removed]",
      "text/plain": [
       "<Figure size 432x288 with 1 Axes>"
      ]
     },
     "metadata": {},
     "output_type": "display_data"
    }
   ],
   "source": [
    "plt.plot(Trange,TEX_Y,label = ' Y on X')\n",
    "plt.plot(Trange,TEY_X, label = 'X on Y')\n",
    "plt.xlabel('Temperature')\n",
    "plt.ylabel('Transfer Entropy')\n",
    "plt.legend()\n",
    "#plt.plot(Trange,TEX_Y_amended)Hi, Niall,\n",
    "#plt.plot(Trange,TEY_X_amended)\n",
    "plt.show()"
   ]
  },
  {
   "cell_type": "markdown",
   "metadata": {},
   "source": [
    "#### Amended Ising model\n",
    "\n",
    "Here, the Ising model is modified that the state at X influences the flip probability at Y but not vice versa. We can thus recreate Figure 10 for L = 25."
   ]
  },
  {
   "cell_type": "code",
   "execution_count": 58,
   "metadata": {
    "collapsed": false
   },
   "outputs": [
    {
     "data": {
      "image/png": "[encoded data removed]",
      "text/plain": [
       "<Figure size 432x288 with 1 Axes>"
      ]
     },
     "metadata": {},
     "output_type": "display_data"
    }
   ],
   "source": [
    "plt.plot(Trange,TEX_Y_amended,label = ' Y on X')\n",
    "plt.plot(Trange,TEY_X_amended,label = ' X on Y')\n",
    "plt.xlabel('Temparature')\n",
    "plt.ylabel('Transfer Entropy')\n",
    "plt.legend()\n",
    "plt.show()"
   ]
  },
  {
   "cell_type": "code",
   "execution_count": null,
   "metadata": {
    "collapsed": true
   },
   "outputs": [],
   "source": []
  }
 ],
 "metadata": {
  "kernelspec": {
   "display_name": "Python 3",
   "language": "python",
   "name": "python3"
  },
  "language_info": {
   "codemirror_mode": {
    "name": "ipython",
    "version": 3
   },
   "file_extension": ".py",
   "mimetype": "text/x-python",
   "name": "python",
   "nbconvert_exporter": "python",
   "pygments_lexer": "ipython3",
   "version": "3.6.8"
  }
 },
 "nbformat": 4,
 "nbformat_minor": 2
}
